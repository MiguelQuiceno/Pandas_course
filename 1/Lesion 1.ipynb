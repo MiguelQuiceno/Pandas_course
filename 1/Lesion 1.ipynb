{
 "cells": [
  {
   "cell_type": "code",
   "execution_count": 1,
   "id": "aaf45724",
   "metadata": {},
   "outputs": [],
   "source": [
    "import pandas as pd"
   ]
  },
  {
   "cell_type": "code",
   "execution_count": 2,
   "id": "1336b0ff",
   "metadata": {},
   "outputs": [
    {
     "data": {
      "text/html": [
       "<div>\n",
       "<style scoped>\n",
       "    .dataframe tbody tr th:only-of-type {\n",
       "        vertical-align: middle;\n",
       "    }\n",
       "\n",
       "    .dataframe tbody tr th {\n",
       "        vertical-align: top;\n",
       "    }\n",
       "\n",
       "    .dataframe thead th {\n",
       "        text-align: right;\n",
       "    }\n",
       "</style>\n",
       "<table border=\"1\" class=\"dataframe\">\n",
       "  <thead>\n",
       "    <tr style=\"text-align: right;\">\n",
       "      <th></th>\n",
       "      <th>cat1</th>\n",
       "      <th>cat2</th>\n",
       "    </tr>\n",
       "  </thead>\n",
       "  <tbody>\n",
       "    <tr>\n",
       "      <th>0</th>\n",
       "      <td>2</td>\n",
       "      <td>3</td>\n",
       "    </tr>\n",
       "    <tr>\n",
       "      <th>1</th>\n",
       "      <td>1</td>\n",
       "      <td>2</td>\n",
       "    </tr>\n",
       "  </tbody>\n",
       "</table>\n",
       "</div>"
      ],
      "text/plain": [
       "   cat1  cat2\n",
       "0     2     3\n",
       "1     1     2"
      ]
     },
     "execution_count": 2,
     "metadata": {},
     "output_type": "execute_result"
    }
   ],
   "source": [
    "# Crear un dataframe\n",
    "data = pd.DataFrame({'cat1': [2, 1], 'cat2': [3, 2]})\n",
    "data"
   ]
  },
  {
   "cell_type": "code",
   "execution_count": 3,
   "id": "b450cec3",
   "metadata": {},
   "outputs": [
    {
     "data": {
      "text/html": [
       "<div>\n",
       "<style scoped>\n",
       "    .dataframe tbody tr th:only-of-type {\n",
       "        vertical-align: middle;\n",
       "    }\n",
       "\n",
       "    .dataframe tbody tr th {\n",
       "        vertical-align: top;\n",
       "    }\n",
       "\n",
       "    .dataframe thead th {\n",
       "        text-align: right;\n",
       "    }\n",
       "</style>\n",
       "<table border=\"1\" class=\"dataframe\">\n",
       "  <thead>\n",
       "    <tr style=\"text-align: right;\">\n",
       "      <th></th>\n",
       "      <th>Bob</th>\n",
       "      <th>Sue</th>\n",
       "    </tr>\n",
       "  </thead>\n",
       "  <tbody>\n",
       "    <tr>\n",
       "      <th>0</th>\n",
       "      <td>Nailed it</td>\n",
       "      <td>Got a match?</td>\n",
       "    </tr>\n",
       "    <tr>\n",
       "      <th>1</th>\n",
       "      <td>Out</td>\n",
       "      <td>In</td>\n",
       "    </tr>\n",
       "  </tbody>\n",
       "</table>\n",
       "</div>"
      ],
      "text/plain": [
       "         Bob           Sue\n",
       "0  Nailed it  Got a match?\n",
       "1        Out            In"
      ]
     },
     "execution_count": 3,
     "metadata": {},
     "output_type": "execute_result"
    }
   ],
   "source": [
    "#No se limitan a enteros\n",
    "pd.DataFrame({'Bob': ['Nailed it', 'Out'], 'Sue': ['Got a match?', 'In']})"
   ]
  },
  {
   "cell_type": "code",
   "execution_count": 4,
   "id": "e87dfef1",
   "metadata": {},
   "outputs": [
    {
     "data": {
      "text/html": [
       "<div>\n",
       "<style scoped>\n",
       "    .dataframe tbody tr th:only-of-type {\n",
       "        vertical-align: middle;\n",
       "    }\n",
       "\n",
       "    .dataframe tbody tr th {\n",
       "        vertical-align: top;\n",
       "    }\n",
       "\n",
       "    .dataframe thead th {\n",
       "        text-align: right;\n",
       "    }\n",
       "</style>\n",
       "<table border=\"1\" class=\"dataframe\">\n",
       "  <thead>\n",
       "    <tr style=\"text-align: right;\">\n",
       "      <th></th>\n",
       "      <th>Bob</th>\n",
       "      <th>Sue</th>\n",
       "    </tr>\n",
       "  </thead>\n",
       "  <tbody>\n",
       "    <tr>\n",
       "      <th>Phrease 1</th>\n",
       "      <td>Nailed it</td>\n",
       "      <td>Got a match?</td>\n",
       "    </tr>\n",
       "    <tr>\n",
       "      <th>Phrease 2</th>\n",
       "      <td>Out</td>\n",
       "      <td>In</td>\n",
       "    </tr>\n",
       "  </tbody>\n",
       "</table>\n",
       "</div>"
      ],
      "text/plain": [
       "                 Bob           Sue\n",
       "Phrease 1  Nailed it  Got a match?\n",
       "Phrease 2        Out            In"
      ]
     },
     "execution_count": 4,
     "metadata": {},
     "output_type": "execute_result"
    }
   ],
   "source": [
    "#Columna de indexacion\n",
    "pd.DataFrame({'Bob': ['Nailed it', 'Out'], 'Sue': ['Got a match?', 'In']}, index = ['Phrease 1', 'Phrease 2'])"
   ]
  },
  {
   "cell_type": "code",
   "execution_count": 5,
   "id": "220684a0",
   "metadata": {},
   "outputs": [
    {
     "data": {
      "text/plain": [
       "0    1\n",
       "1    2\n",
       "2    3\n",
       "3    4\n",
       "4    5\n",
       "dtype: int64"
      ]
     },
     "execution_count": 5,
     "metadata": {},
     "output_type": "execute_result"
    }
   ],
   "source": [
    "#Crear una serie\n",
    "pd.Series([1, 2, 3, 4, 5])"
   ]
  },
  {
   "cell_type": "code",
   "execution_count": 6,
   "id": "7ae37275",
   "metadata": {},
   "outputs": [
    {
     "data": {
      "text/plain": [
       "ventas 2021    30\n",
       "ventas 2022    35\n",
       "ventas 2023    40\n",
       "dtype: int64"
      ]
     },
     "execution_count": 6,
     "metadata": {},
     "output_type": "execute_result"
    }
   ],
   "source": [
    "#Indexar una serie\n",
    "pd.Series([30, 35, 40], index = ['ventas 2021', 'ventas 2022', 'ventas 2023'])"
   ]
  },
  {
   "cell_type": "code",
   "execution_count": 7,
   "id": "2e882748",
   "metadata": {},
   "outputs": [
    {
     "data": {
      "text/html": [
       "<div>\n",
       "<style scoped>\n",
       "    .dataframe tbody tr th:only-of-type {\n",
       "        vertical-align: middle;\n",
       "    }\n",
       "\n",
       "    .dataframe tbody tr th {\n",
       "        vertical-align: top;\n",
       "    }\n",
       "\n",
       "    .dataframe thead th {\n",
       "        text-align: right;\n",
       "    }\n",
       "</style>\n",
       "<table border=\"1\" class=\"dataframe\">\n",
       "  <thead>\n",
       "    <tr style=\"text-align: right;\">\n",
       "      <th></th>\n",
       "      <th>Table</th>\n",
       "      <th>Field</th>\n",
       "      <th>Description</th>\n",
       "    </tr>\n",
       "  </thead>\n",
       "  <tbody>\n",
       "    <tr>\n",
       "      <th>0</th>\n",
       "      <td>orders</td>\n",
       "      <td>order_id</td>\n",
       "      <td>Unique identifier for each order placed by a t...</td>\n",
       "    </tr>\n",
       "    <tr>\n",
       "      <th>1</th>\n",
       "      <td>orders</td>\n",
       "      <td>date</td>\n",
       "      <td>Date the order was placed (entered into the sy...</td>\n",
       "    </tr>\n",
       "    <tr>\n",
       "      <th>2</th>\n",
       "      <td>orders</td>\n",
       "      <td>time</td>\n",
       "      <td>Time the order was placed (entered into the sy...</td>\n",
       "    </tr>\n",
       "    <tr>\n",
       "      <th>3</th>\n",
       "      <td>order_details</td>\n",
       "      <td>order_details_id</td>\n",
       "      <td>Unique identifier for each pizza placed within...</td>\n",
       "    </tr>\n",
       "    <tr>\n",
       "      <th>4</th>\n",
       "      <td>order_details</td>\n",
       "      <td>order_id</td>\n",
       "      <td>Foreign key that ties the details in each orde...</td>\n",
       "    </tr>\n",
       "    <tr>\n",
       "      <th>5</th>\n",
       "      <td>order_details</td>\n",
       "      <td>pizza_id</td>\n",
       "      <td>Foreign key that ties the pizza ordered to its...</td>\n",
       "    </tr>\n",
       "    <tr>\n",
       "      <th>6</th>\n",
       "      <td>order_details</td>\n",
       "      <td>quantity</td>\n",
       "      <td>Quantity ordered for each pizza of the same ty...</td>\n",
       "    </tr>\n",
       "    <tr>\n",
       "      <th>7</th>\n",
       "      <td>pizzas</td>\n",
       "      <td>pizza_id</td>\n",
       "      <td>Unique identifier for each pizza (constituted ...</td>\n",
       "    </tr>\n",
       "    <tr>\n",
       "      <th>8</th>\n",
       "      <td>pizzas</td>\n",
       "      <td>pizza_type_id</td>\n",
       "      <td>Foreign key that ties each pizza to its broade...</td>\n",
       "    </tr>\n",
       "    <tr>\n",
       "      <th>9</th>\n",
       "      <td>pizzas</td>\n",
       "      <td>size</td>\n",
       "      <td>Size of the pizza (Small, Medium, Large, X Lar...</td>\n",
       "    </tr>\n",
       "    <tr>\n",
       "      <th>10</th>\n",
       "      <td>pizzas</td>\n",
       "      <td>price</td>\n",
       "      <td>Price of the pizza in USD</td>\n",
       "    </tr>\n",
       "    <tr>\n",
       "      <th>11</th>\n",
       "      <td>pizza_types</td>\n",
       "      <td>pizza_type_id</td>\n",
       "      <td>Unique identifier for each pizza type</td>\n",
       "    </tr>\n",
       "    <tr>\n",
       "      <th>12</th>\n",
       "      <td>pizza_types</td>\n",
       "      <td>name</td>\n",
       "      <td>Name of the pizza as shown in the menu</td>\n",
       "    </tr>\n",
       "    <tr>\n",
       "      <th>13</th>\n",
       "      <td>pizza_types</td>\n",
       "      <td>category</td>\n",
       "      <td>Category that the pizza fall under in the menu...</td>\n",
       "    </tr>\n",
       "    <tr>\n",
       "      <th>14</th>\n",
       "      <td>pizza_types</td>\n",
       "      <td>ingredients</td>\n",
       "      <td>Comma-delimited ingredients used in the pizza ...</td>\n",
       "    </tr>\n",
       "  </tbody>\n",
       "</table>\n",
       "</div>"
      ],
      "text/plain": [
       "            Table             Field  \\\n",
       "0          orders          order_id   \n",
       "1          orders              date   \n",
       "2          orders              time   \n",
       "3   order_details  order_details_id   \n",
       "4   order_details          order_id   \n",
       "5   order_details          pizza_id   \n",
       "6   order_details          quantity   \n",
       "7          pizzas          pizza_id   \n",
       "8          pizzas     pizza_type_id   \n",
       "9          pizzas              size   \n",
       "10         pizzas             price   \n",
       "11    pizza_types     pizza_type_id   \n",
       "12    pizza_types              name   \n",
       "13    pizza_types          category   \n",
       "14    pizza_types       ingredients   \n",
       "\n",
       "                                          Description  \n",
       "0   Unique identifier for each order placed by a t...  \n",
       "1   Date the order was placed (entered into the sy...  \n",
       "2   Time the order was placed (entered into the sy...  \n",
       "3   Unique identifier for each pizza placed within...  \n",
       "4   Foreign key that ties the details in each orde...  \n",
       "5   Foreign key that ties the pizza ordered to its...  \n",
       "6   Quantity ordered for each pizza of the same ty...  \n",
       "7   Unique identifier for each pizza (constituted ...  \n",
       "8   Foreign key that ties each pizza to its broade...  \n",
       "9   Size of the pizza (Small, Medium, Large, X Lar...  \n",
       "10                          Price of the pizza in USD  \n",
       "11              Unique identifier for each pizza type  \n",
       "12             Name of the pizza as shown in the menu  \n",
       "13  Category that the pizza fall under in the menu...  \n",
       "14  Comma-delimited ingredients used in the pizza ...  "
      ]
     },
     "execution_count": 7,
     "metadata": {},
     "output_type": "execute_result"
    }
   ],
   "source": [
    "#Leer desde CSV\n",
    "pizza = pd.read_csv(\"data_dictionary.csv\")\n",
    "pizza"
   ]
  },
  {
   "cell_type": "code",
   "execution_count": 8,
   "id": "1138af31",
   "metadata": {},
   "outputs": [
    {
     "data": {
      "text/plain": [
       "(15, 3)"
      ]
     },
     "execution_count": 8,
     "metadata": {},
     "output_type": "execute_result"
    }
   ],
   "source": [
    "#Tamaño\n",
    "pizza.shape"
   ]
  },
  {
   "cell_type": "code",
   "execution_count": 9,
   "id": "0f5c8c8d",
   "metadata": {},
   "outputs": [],
   "source": [
    "#Si ya hay una columna indexante existente en el dataset con read_csv(\"file.csv\", index_col = n)"
   ]
  }
 ],
 "metadata": {
  "kernelspec": {
   "display_name": "Python 3 (ipykernel)",
   "language": "python",
   "name": "python3"
  },
  "language_info": {
   "codemirror_mode": {
    "name": "ipython",
    "version": 3
   },
   "file_extension": ".py",
   "mimetype": "text/x-python",
   "name": "python",
   "nbconvert_exporter": "python",
   "pygments_lexer": "ipython3",
   "version": "3.8.3"
  }
 },
 "nbformat": 4,
 "nbformat_minor": 5
}
